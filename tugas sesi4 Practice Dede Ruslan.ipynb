{
 "cells": [
  {
   "cell_type": "markdown",
   "metadata": {},
   "source": [
    "\n",
    "<h1>Tugas Praktikum Variable Dan Tipe Data</h1>\n",
    "    \n",
    "<li> Nama : Dede Ruslan</li>\n",
    "<li> Nim : 20220040299</li>\n",
    "<li> Kelas : TI22B</li>"
   ]
  },
  {
   "cell_type": "markdown",
   "metadata": {},
   "source": [
    "<h3>Soal 1</h3>\n",
    "Kiki belanja ke alf$$a M 𝑎 r$t membeli 3 hepitos, 2 silperkuin, telor 2kg, beras 5kg, isi ulang akua galon seharga Rp 13.000. Harga hepitos yaitu Rp 15.000, telor Rp 13.000/kg, silperkuin Rp 21.000 beras kemasan 2.5kg seharga Rp 20.000. Toko tersebut memberikan discount 5%, ketika customer membeli makanan lebih dari 3 jenis. Berapakah total bayar belanjaan dari Kiki?"
   ]
  },
  {
   "cell_type": "code",
   "execution_count": 12,
   "metadata": {},
   "outputs": [
    {
     "name": "stdout",
     "output_type": "stream",
     "text": [
      "Total belanjaan Kiki adalah Rp 157700\n"
     ]
    }
   ],
   "source": [
    "#Code here\n",
    "\n",
    "hepitos = 3\n",
    "harga_hepitos = 15000\n",
    "silperkuin = 2\n",
    "harga_silperkuin = 21000\n",
    "telor = 2\n",
    "harga_telor = 13000\n",
    "beras = 5\n",
    "harga_beras = 20000\n",
    "isi_galon = 13000\n",
    "total_hepitos = hepitos * harga_hepitos\n",
    "total_silperkuin = silperkuin * harga_silperkuin\n",
    "total_telor = telor * harga_telor\n",
    "total_beras = beras * harga_beras/2.5\n",
    "total_belanja = total_hepitos + total_silperkuin + total_telor + total_beras + isi_galon\n",
    "if total_belanja > 3:\n",
    "    total_belanja -= total_belanja*0.05\n",
    "print(\"Total belanjaan Kiki adalah Rp\",round(total_belanja))"
   ]
  },
  {
   "cell_type": "markdown",
   "metadata": {},
   "source": [
    "<h3>Soal 2</h3>\n",
    "Roni menabung pada bulan agustus yaitu setiap tanggal ganjil sejumlah Rp 50.000, setiap tanggal genap sejumlah RP 10.000 dan setiap tanggal kelipatan 5 sejumlah Rp 5.000, Berapakah total tabungan Roni diakhir bulan?"
   ]
  },
  {
   "cell_type": "code",
   "execution_count": 18,
   "metadata": {},
   "outputs": [
    {
     "name": "stdout",
     "output_type": "stream",
     "text": [
      "Total tabunganRoni di akhir bulan adalah Rp 800000\n"
     ]
    }
   ],
   "source": [
    "#Code here\n",
    "\n",
    "tanggal_ganjil = 0\n",
    "tanggal_genap = 0\n",
    "tanggal_kelipatan_5 = 0\n",
    "\n",
    "for tanggal in range(1, 32):\n",
    "    if tanggal % 5 == 0:\n",
    "        tanggal_kelipatan_5 += 1\n",
    "    elif tanggal % 2 == 0:\n",
    "        tanggal_genap += 1\n",
    "    else:\n",
    "        tanggal_ganjil += 1\n",
    "        \n",
    "tabungan_ganjil = tanggal_ganjil * 50000\n",
    "tabungan_genap = tanggal_genap * 10000\n",
    "tabungan_kelipatan_5 = tanggal_kelipatan_5 * 5000\n",
    "\n",
    "total_tabungan = tabungan_ganjil + tabungan_genap + tabungan_kelipatan_5\n",
    "\n",
    "print(\"Total tabunganRoni di akhir bulan adalah Rp\", total_tabungan)"
   ]
  },
  {
   "cell_type": "markdown",
   "metadata": {},
   "source": [
    "<h3>Soal 3</h3>\n",
    "Saat hari raya, Deni ingin menukarkan uang sejumlah Rp 5.000.000 ke pecahan 20rb, 10rb, 5rb, 2rb. berapa jumlahnya yang didapatkan Deni jika 20rb maksimal 100, 10rb maksimal 50.Jika :\n",
    "<ol>\n",
    "    <li>3(a)Semua pecahan harus ada</li>\n",
    "    <li>3(b)Hanya pecahan 20rb, 10rb dan 5rb</li>\n",
    "    <li>3(c)Hanya pecahan 20rb, 10rb dan 2rb</li>\n",
    "</ol>"
   ]
  },
  {
   "cell_type": "code",
   "execution_count": 1,
   "metadata": {},
   "outputs": [
    {
     "name": "stdout",
     "output_type": "stream",
     "text": [
      "3(a)Semua pecahan harus ada\n",
      "Jumlah pecahan 20rb: 100\n",
      "Jumlah pecahan 10rb: 50\n",
      "Jumlah pecahan 5rb: 500\n",
      "Jumlah pecahan 2rb: 0 \n",
      "\n",
      "3(b)Hanya pecahan 20rb, 10rb dan 5rb\n",
      "Jumlah pecahan 20rb: 100\n",
      "Jumlah pecahan 10rb: 50\n",
      "Jumlah pecahan 5rb: 500 \n",
      "\n",
      "3(c)Hanya pecahan 20rb, 10rb dan 2rb\n",
      "Jumlah pecahan 20rb: 100\n",
      "Jumlah pecahan 10rb: 50\n",
      "Jumlah pecahan 2rb: 1250\n"
     ]
    }
   ],
   "source": [
    "#Code here\n",
    "\n",
    "uang = 5000000\n",
    "pecahan_20rb = min(uang // 20000, 100)\n",
    "sisa = uang - pecahan_20rb * 20000\n",
    "pecahan_10rb = min(sisa // 10000, 50)\n",
    "sisa = sisa - pecahan_10rb * 10000\n",
    "pecahan_5rb = sisa // 5000\n",
    "sisa = sisa % 5000\n",
    "pecahan_2rb = sisa // 2000\n",
    "print(\"3(a)Semua pecahan harus ada\",)\n",
    "print(\"Jumlah pecahan 20rb:\", pecahan_20rb)\n",
    "print(\"Jumlah pecahan 10rb:\", pecahan_10rb)\n",
    "print(\"Jumlah pecahan 5rb:\", pecahan_5rb)\n",
    "print(\"Jumlah pecahan 2rb:\", pecahan_2rb,\"\\n\")\n",
    "\n",
    "uang = 5000000\n",
    "pecahan_20rb = min(uang // 20000, 100)\n",
    "sisa = uang - pecahan_20rb * 20000\n",
    "pecahan_10rb = min(sisa // 10000, 50)\n",
    "sisa = sisa - pecahan_10rb * 10000\n",
    "pecahan_5rb = sisa // 5000\n",
    "print(\"3(b)Hanya pecahan 20rb, 10rb dan 5rb\")\n",
    "print(\"Jumlah pecahan 20rb:\", pecahan_20rb)\n",
    "print(\"Jumlah pecahan 10rb:\", pecahan_10rb)\n",
    "print(\"Jumlah pecahan 5rb:\", pecahan_5rb,\"\\n\")\n",
    "\n",
    "uang = 5000000\n",
    "pecahan_20rb = min(uang // 20000, 100)\n",
    "sisa = uang - pecahan_20rb * 20000\n",
    "pecahan_10rb = min(sisa // 10000, 50)\n",
    "sisa = sisa - pecahan_10rb * 10000\n",
    "pecahan_2rb = sisa // 2000\n",
    "print(\"3(c)Hanya pecahan 20rb, 10rb dan 2rb\")\n",
    "print(\"Jumlah pecahan 20rb:\", pecahan_20rb)\n",
    "print(\"Jumlah pecahan 10rb:\", pecahan_10rb)\n",
    "print(\"Jumlah pecahan 2rb:\", pecahan_2rb)"
   ]
  },
  {
   "cell_type": "markdown",
   "metadata": {},
   "source": [
    "<h3>Soal 4</h3>\n",
    "Berapakah hasil dari (10/23-6+4-(20//3%2)) ?\n",
    "Lakukan analisa perhitungan dari hasil tersebut!\n",
    "Berdasarkan hasil tersebut urutkan operator yang dikerjakan!"
   ]
  },
  {
   "cell_type": "code",
   "execution_count": 32,
   "metadata": {},
   "outputs": [
    {
     "name": "stdout",
     "output_type": "stream",
     "text": [
      "-1.5652173913043477\n"
     ]
    }
   ],
   "source": [
    "#Code here\n",
    "\n",
    "a = 10\n",
    "b = 23\n",
    "c = 6\n",
    "d = 4\n",
    "e = 20\n",
    "f = 3\n",
    "\n",
    "hasil = (((a/b)-c)+d-((e//f)%2))\n",
    "print(hasil)\n"
   ]
  },
  {
   "cell_type": "markdown",
   "metadata": {},
   "source": [
    "<h3>Soal 5</h3>\n",
    "Jika terdapat string yaitu \"UFLOPYXTKJACSWRBGQZVDMEHIN\", maka susunlah nama kalian masing-masing dari data tersebut, berdasarkan index dari masing-masing huruf yang ada pada string tersebut! \n"
   ]
  },
  {
   "cell_type": "code",
   "execution_count": 4,
   "metadata": {},
   "outputs": [
    {
     "name": "stdout",
     "output_type": "stream",
     "text": [
      "DEDE RUSLAN\n"
     ]
    }
   ],
   "source": [
    "x =  \"UFLOPYXTKJACSWRBGQZVDMEHIN\"\n",
    "print(x[20]+x[22]+x[20]+x[22]+\" \"+x[14]+x[0]+x[12]+x[2]+x[10]+x[25])"
   ]
  }
 ],
 "metadata": {
  "kernelspec": {
   "display_name": "Python 3 (ipykernel)",
   "language": "python",
   "name": "python3"
  },
  "language_info": {
   "codemirror_mode": {
    "name": "ipython",
    "version": 3
   },
   "file_extension": ".py",
   "mimetype": "text/x-python",
   "name": "python",
   "nbconvert_exporter": "python",
   "pygments_lexer": "ipython3",
   "version": "3.9.12"
  }
 },
 "nbformat": 4,
 "nbformat_minor": 4
}
